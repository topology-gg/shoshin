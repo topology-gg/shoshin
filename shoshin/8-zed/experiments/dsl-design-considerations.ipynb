{
 "cells": [
  {
   "cell_type": "markdown",
   "id": "45534cc9",
   "metadata": {},
   "source": [
    "#### Goal: invent a embedded DSL for describing agent state machine in accessible manner\n",
    "\n",
    "- the ergonomics of the language depends on semantic requirement - what kind of strategies and patterns to be described\n",
    "- Action space: null (NL), move forward (MF), move backward (MB), normal attack (A), focus (F), focus release (FR), dash forward (DF), dash backward (DB)"
   ]
  },
  {
   "cell_type": "markdown",
   "id": "f89744c7",
   "metadata": {},
   "source": [
    "#### Anticipated common expression\n",
    "- Wait until object state is X\n",
    "- if opponent's object state is X\n",
    "- if distance to opponent is GTE / LTE X, and if opponent is approaching / leaving\n",
    "- Wait until expression-X unless expression-Y"
   ]
  },
  {
   "cell_type": "markdown",
   "id": "5ed13002",
   "metadata": {},
   "source": [
    "#### Designer needs to describe:\n",
    "1. Boolean expressions\n",
    "2. State switch statements\n",
    "\n",
    "Example:\n",
    "```\n",
    "# Boolean expressions (evaluated to 0/1)\n",
    "E0 = ...\n",
    "E1 = ...\n",
    "\n",
    "# State switch statements\n",
    "{'S1' : {\n",
    "    E0 : {'S1', 'a1'},\n",
    "    E1 : {'S2', 'a2'},\n",
    "    ...\n",
    "    0 : {'S1', 'a0'}\n",
    "}}\n",
    "```\n",
    "\n",
    "the above compiles to the following Cairo:\n",
    "\n",
    "```\n",
    "func e_0 (...) -> (bool):\n",
    "    ...\n",
    "end\n",
    "\n",
    "func e_1 (...) -> (bool):\n",
    "    ...\n",
    "end\n",
    "\n",
    "func _mind (state : felt, ...) -> (next_state : felt, action : felt):\n",
    "\n",
    "    if (state == S1):\n",
    "        local bool_e0 = e0 (...)\n",
    "        local bool_e1 = e1 (...)\n",
    "        if e0 == 1:\n",
    "            return (S1, a1)\n",
    "        end\n",
    "        if e1 == 1:\n",
    "            return (S2, a2)\n",
    "        end\n",
    "        ...\n",
    "        else:\n",
    "            return (S1, a0)\n",
    "        end\n",
    "    end\n",
    "    \n",
    "    if (state == S2):\n",
    "        ...\n",
    "    end\n",
    "    \n",
    "    ...\n",
    "end\n",
    "```"
   ]
  },
  {
   "cell_type": "code",
   "execution_count": null,
   "id": "c37dc7a7",
   "metadata": {},
   "outputs": [],
   "source": []
  },
  {
   "cell_type": "code",
   "execution_count": null,
   "id": "1ee02fda",
   "metadata": {},
   "outputs": [],
   "source": []
  }
 ],
 "metadata": {
  "kernelspec": {
   "display_name": "Python 3 (ipykernel)",
   "language": "python",
   "name": "python3"
  },
  "language_info": {
   "codemirror_mode": {
    "name": "ipython",
    "version": 3
   },
   "file_extension": ".py",
   "mimetype": "text/x-python",
   "name": "python",
   "nbconvert_exporter": "python",
   "pygments_lexer": "ipython3",
   "version": "3.7.10"
  }
 },
 "nbformat": 4,
 "nbformat_minor": 5
}
